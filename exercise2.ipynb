{
 "cells": [
  {
   "attachments": {},
   "cell_type": "markdown",
   "metadata": {},
   "source": [
    "# Exercise 2"
   ]
  },
  {
   "attachments": {},
   "cell_type": "markdown",
   "metadata": {},
   "source": [
    "For this exercise, we developed an item-based Collaborative Filtering (CF) algorithm for movie recomendation on the MovieLens dataset. The implementation uses PySpark's Dataframe API."
   ]
  },
  {
   "attachments": {},
   "cell_type": "markdown",
   "metadata": {},
   "source": [
    "## Imports"
   ]
  },
  {
   "attachments": {},
   "cell_type": "markdown",
   "metadata": {},
   "source": [
    "PySpark is the only non-standard library required.\n",
    "Matplotlib is optional, but required to perform plots."
   ]
  },
  {
   "cell_type": "code",
   "execution_count": 1,
   "metadata": {},
   "outputs": [],
   "source": [
    "import pyspark.sql.functions as F\n",
    "from pyspark import Broadcast\n",
    "from pyspark.sql import SparkSession, DataFrame\n",
    "from pyspark.sql.types import ArrayType, DoubleType, IntegerType\n",
    "from typing import Iterable, Any, Tuple\n",
    "\n",
    "try:\n",
    "    import matplotlib.pyplot as plt\n",
    "except ImportError:\n",
    "    print('Matplotlib could not be imported, graphs won\\'t be plotted.')\n",
    "    plt = None\n",
    "\n",
    "from pyspark.ml.clustering import BisectingKMeans"
   ]
  },
  {
   "attachments": {},
   "cell_type": "markdown",
   "metadata": {},
   "source": [
    "## Spark initialization"
   ]
  },
  {
   "cell_type": "markdown",
   "metadata": {},
   "source": [
    "Spark is initialized, with as many worker threads as logical cores on the machine. We did not use a fixed value since the machines used for development had a different number of CPU cores."
   ]
  },
  {
   "cell_type": "code",
   "execution_count": 2,
   "metadata": {},
   "outputs": [
    {
     "name": "stderr",
     "output_type": "stream",
     "text": [
      "23/05/04 11:11:14 WARN Utils: Your hostname, martinho-SATELLITE-L50-B resolves to a loopback address: 127.0.1.1; using 192.168.54.45 instead (on interface wlx200db038271f)\n",
      "23/05/04 11:11:14 WARN Utils: Set SPARK_LOCAL_IP if you need to bind to another address\n",
      "Setting default log level to \"WARN\".\n",
      "To adjust logging level use sc.setLogLevel(newLevel). For SparkR, use setLogLevel(newLevel).\n",
      "23/05/04 11:11:15 WARN NativeCodeLoader: Unable to load native-hadoop library for your platform... using builtin-java classes where applicable\n"
     ]
    }
   ],
   "source": [
    "spark = SparkSession.builder \\\n",
    "    .appName('ItemCF') \\\n",
    "    .config('spark.master', 'local[*]') \\\n",
    "    .getOrCreate()"
   ]
  },
  {
   "attachments": {},
   "cell_type": "markdown",
   "metadata": {},
   "source": [
    "## Prepare the data"
   ]
  },
  {
   "attachments": {},
   "cell_type": "markdown",
   "metadata": {},
   "source": [
    "The MovieLens 100K dataset is loaded for experimentation in the notebook.\n",
    "Only the ratings in `u.data` are required for performing CF.\n",
    "Both user and movie IDs as well as the ratings are converted into integers to occupy less memory.\n",
    "The `timestamp` column is discarded, as rating time was not considered."
   ]
  },
  {
   "cell_type": "code",
   "execution_count": 3,
   "metadata": {},
   "outputs": [
    {
     "name": "stderr",
     "output_type": "stream",
     "text": [
      "                                                                                \r"
     ]
    }
   ],
   "source": [
    "df = (spark.read\n",
    "    .option('header', 'false')\n",
    "    .option('sep', '\\t')\n",
    "    .csv('data/ml-100k/u.data')\n",
    ")\n",
    "\n",
    "df = (df.withColumnRenamed('_c0', 'user_id') \n",
    "    .withColumnRenamed('_c1', 'item_id')\n",
    "    .withColumnRenamed('_c2', 'rating')\n",
    "    .drop('_c3')\n",
    "    .select(F.col('user_id').cast(IntegerType()), F.col('item_id').cast(IntegerType()), F.col('rating').cast(IntegerType()))\n",
    ")"
   ]
  },
  {
   "attachments": {},
   "cell_type": "markdown",
   "metadata": {},
   "source": [
    "## Collaborative Filtering"
   ]
  },
  {
   "attachments": {},
   "cell_type": "markdown",
   "metadata": {},
   "source": [
    "For the item-based CF algorithm, the value of a predicted rating is:\n",
    "\n",
    "$$\n",
    "r_{xi} = b_{xi} + \\frac{\\sum_{j \\in N(i;x)}{s_{ij} \\cdot (r_{xi} - b_{xj})}}{\\sum_{j \\in N(i;x)}{s_{ij}}}\n",
    "$$\n",
    "\n",
    "where\n",
    "\n",
    "$$\n",
    "b_{xi} = \\mu + b_x + b_i\n",
    "$$\n",
    "\n",
    "with:\n",
    "- $\\mu$ being the overall average movie rating\n",
    "- $b_x$ being the rating deviation of user $x$\n",
    "- $b_i$ being the rating deviation of movie/item $i$\n",
    "\n",
    "The similarities $s_{ij}$ are calculated pairwise between movies when needed, and the ratings $r_{xj}$ are also queried when required.\n",
    "\n",
    "On the other hand, the values for the baselines $\\mu$, $b_x$ and $b_i$ can be calculated beforehand."
   ]
  },
  {
   "attachments": {},
   "cell_type": "markdown",
   "metadata": {},
   "source": [
    "### Calculate baselines"
   ]
  },
  {
   "attachments": {},
   "cell_type": "markdown",
   "metadata": {},
   "source": [
    "Firstly, we pre-compute the necessary values for calculating the baselines when predicting ratings in the future. For the baselines we need the overall mean rating, mean rating of each user and mean rating of each movie."
   ]
  },
  {
   "attachments": {},
   "cell_type": "markdown",
   "metadata": {},
   "source": [
    "To obtain the overall average, we simply aggregate the `ratings` column across all rows, performing an average.\n",
    "For the user and item averages, we first perform grouping on the respective IDs and only then we aggregate the ratings of only within the rows of each group (i.e. user or item)."
   ]
  },
  {
   "attachments": {},
   "cell_type": "markdown",
   "metadata": {},
   "source": [
    "These results are collected into Python floats and dictionaries.\n",
    "We also explicitly broadcast the `user_means` and `item_means` dictionaries beforehand, as they can take up some memory and will be necessary for prediciting ratings in multiple occasions."
   ]
  },
  {
   "cell_type": "code",
   "execution_count": 4,
   "metadata": {},
   "outputs": [],
   "source": [
    "def calculate_user_item_means(df: DataFrame) -> Tuple[Broadcast, Broadcast, float]:\n",
    "    user_means = {\n",
    "        row['user_id']:row['user_avg']\n",
    "        for row in df.groupBy('user_id')\n",
    "            .agg(F.avg('rating').alias('user_avg'))\n",
    "            .collect()\n",
    "    }\n",
    "    item_means = {\n",
    "        row['item_id']:row['item_avg']\n",
    "        for row in df.groupBy('item_id')\n",
    "            .agg(F.avg('rating').alias('item_avg'))\n",
    "            .collect()\n",
    "    }\n",
    "    mu = df.agg(F.avg('rating').alias('overall_avg')).collect()[0]['overall_avg']\n",
    "\n",
    "    user_means = spark.sparkContext.broadcast(user_means)\n",
    "    item_means = spark.sparkContext.broadcast(item_means)\n",
    "\n",
    "    return user_means, item_means, mu"
   ]
  },
  {
   "attachments": {},
   "cell_type": "markdown",
   "metadata": {},
   "source": [
    "### Clustering the movies"
   ]
  },
  {
   "attachments": {},
   "cell_type": "markdown",
   "metadata": {},
   "source": [
    "In order to obtain the $k$ items most similar to an item $i$, that were rated by $x$, we are required in theory to calculate the similarity between $i$ and all other items that rated $x$.\n",
    "\n",
    "To reduce the complexity that this operation entails, we decided to use clustering on the items.\n",
    "Basically, we cluster the entire ratings dataset beforehand, and when a rating on $i$ is required, we check to which cluster it belongs to and only evaluate its similarity with items on that cluster.\n",
    "\n",
    "We decided to make use of Spark's builtin `BisectingKMeans` divisive clustering algorithm. \n",
    "This method was chosen since it allows setting a parameter `minDivisibleClusterSize` which can help in avoiding the creation of clusters with very few elements, which in turn can result in other clusters being very large.\n",
    "This algorithm also tends to prioritize dividing large clusters before dividing smaller ones, and is performant.\n",
    "\n",
    "The clustering is performed using the items' ratings by each user as features.\n",
    "The `BisectingKMeans` algorithm requires as input a dataframe with rows as the objects and a column reserved for the features, which will be the list of ratings by each user on a given movie.\n",
    "\n",
    "The `minDivisibleClusterSize` can be set to a minimum fixed number of neighbors (`>= 1`) or portion of the data (`< 1`).\n",
    "For the default, we decided to set it to `1 / K` with `K` being the number of clusters.\n",
    "This way, we ensure that each cluster needs to have at least a number of points equal to or greater than `1 / K` before being divided, which should decrease the probability that we find very small clusters."
   ]
  },
  {
   "cell_type": "code",
   "execution_count": 5,
   "metadata": {},
   "outputs": [],
   "source": [
    "def cluster_with_bisectingkmeans(matrix: DataFrame, minDivisibleClusterSize: float=None, k: int=50, seed: int=1) -> DataFrame:\n",
    "\n",
    "    if minDivisibleClusterSize is None:\n",
    "        minDivisibleClusterSize = 1 / k\n",
    "\n",
    "    bkm = BisectingKMeans(featuresCol='ratings', minDivisibleClusterSize=minDivisibleClusterSize, predictionCol=\"cluster_id\").setK(k).setSeed(seed)\n",
    "    model = bkm.fit(matrix)\n",
    "\n",
    "    return model.transform(matrix)"
   ]
  },
  {
   "cell_type": "markdown",
   "metadata": {},
   "source": [
    "\n",
    "To create this dataframe, we can perform grouping on the items, collecting its ratings into a list.\n",
    "However, we need to expand this list to include the ratings that were not performed, by inserting `0`s.\n",
    "The lists of ratings will have a number of elements equal to the number of users in the dataset.\n",
    "To do this, we associate the `user_id` to each rating when collecting the ratings into a list.\n",
    "Afterwards, to make the sparse matrix, we use an UDF to fill on each index $m$ of the row the rating of user $m$ or `0` if they were not present in the list to begin with."
   ]
  },
  {
   "cell_type": "code",
   "execution_count": 6,
   "metadata": {},
   "outputs": [],
   "source": [
    "def build_item_ratings_sparse_matrix(dataset: DataFrame) -> DataFrame:\n",
    "    user_number = df.select('user_id').distinct().count()\n",
    "\n",
    "    @F.udf(returnType=ArrayType(IntegerType(),False))\n",
    "    def utility_matrix_row(elems: Iterable[Any]):\n",
    "\n",
    "        sparse_row = [0] * user_number\n",
    "        \n",
    "        for (user_id,rating) in elems:\n",
    "            sparse_row[user_id-1] = rating\n",
    "\n",
    "        return sparse_row\n",
    "\n",
    "    return (dataset.groupBy('item_id')\n",
    "        .agg(F.collect_list(F.array('user_id','rating')).alias('ratings'))\n",
    "        .withColumn('ratings', utility_matrix_row(F.col('ratings')).cast(ArrayType(DoubleType(),False)))\n",
    "    )"
   ]
  },
  {
   "attachments": {},
   "cell_type": "markdown",
   "metadata": {},
   "source": [
    "### Calculate prediction"
   ]
  },
  {
   "attachments": {},
   "cell_type": "markdown",
   "metadata": {},
   "source": [
    "With the clustering and utility matrix built, we can calculate the predicted ratings.\n",
    "\n",
    "We developed a function `predict_ratings` that, taking a dataframe `test_set` containing the user-item pairs, builds a dataframe by adding a column `predicted_rating` to those pairs.\n",
    "The dataframe is built purely on Spark DataFrame operations.\n",
    "It receives the user-item pairs in `test_set`, the clustered utility matrix in `train_matrix_with_clusters`, and the user/item means and overall mean for the final formula.\n",
    "\n",
    "Firstly, we perform a join with the utility matrix to obtain, for each item to predict the rating for in `test_set`, the cluster it belongs to and its ratings.\n",
    "The join is `inner` in order to discard items that are not present in the utility matrix, as it doesn't make sense to make predictions on those in CF.\n",
    "\n",
    "Then we add columns containing the user and item means, obtaining the value from the broadcasted variables.\n",
    "Additionally, we transform the `ratings` column to remove the average item rating from each value, creating the column `ratings_pearson`.\n",
    "The `_pearson` ratings are useful for calculating the similarity between items.\n",
    "\n",
    "Another join with the utility matrix is performed, this time according to the cluster of each item in `test_set`.\n",
    "In the utility matrix, we add a column containing the mean rating for each item (`other_item_mean`) and a column containing the `ratings` with the mean item rating subtracted from each value (`other_ratings_pearson`).\n",
    "After this join, we have for every user-item pair in `test_set` many rows containing the ratings and item mean information of all items similar to the item in the user-item pair (in the same cluster).\n",
    "\n",
    "A column `user_other_rating` is created containing the rating of the user, from the user-item pair, on each item of the cluster.\n",
    "Since we only want to consider items that were rated by the user in the user-item pairs, then we filter the dataframe by removing the items that weren't rated by that user (`user_other_rating` equal to 0).\n",
    "This has the side effect of also removing the item of the user-item pair itself since, in principle, it shouldn't have had a rating in the training data (that's the reason we are predicting).\n",
    "\n",
    "Finally, we can calculate the predicted rating itself.\n",
    "For this we first calculate the similarity between the items in the user-item pairs with each other item they are similar with and were rated by the user.\n",
    "This uses the `_pearson` ratings that were built previously.\n",
    "\n",
    "Then, the baseline estimates are computed and, finally, an aggregation is performed with each user-item pair (and other optional columns of `test_set`) as the keys, and the values as the summation of the results for each similar item as indicated by the previously shown formula.\n",
    "The final aggregated column is the `predicted_rating`.\n",
    "The `baseline` column is included in the grouping keys since it is used when calculating the `predicted_rating` even though it is not aggregated, as its value is the same for each similar item."
   ]
  },
  {
   "cell_type": "code",
   "execution_count": 7,
   "metadata": {},
   "outputs": [],
   "source": [
    "def predict_ratings(test_set: DataFrame, train_matrix_with_clusters: DataFrame, user_means: Broadcast, item_means: Broadcast, mu: float) -> DataFrame:\n",
    "    \"\"\"Predict user ratings on an item using item-based Collaborative Filtering. Function built with batch processing in mind.\n",
    "\n",
    "    The supplied utility matrix should have an item for each row and the following columns:\n",
    "    - `item_id` containing the item ID\n",
    "    - `ratings` containing the respective row of the utility matrix\n",
    "    - `cluster_id` containing the ID of the cluster the item belongs to\n",
    "\n",
    "    Parameters\n",
    "    ----------\n",
    "    test_set : DataFrame\n",
    "        Spark dataframe containing the user and item IDs in columns `user_id` and `item_id` respectively.\n",
    "        May contain other columns, but they should not overlap with the internal columns\n",
    "    train_matrix_with_clusters : DataFrame\n",
    "        Spark dataframe representing the utility matrix\n",
    "    user_means : Broadcast\n",
    "        Spark-broadcasted Python dictionary, containing the average rating for each user\n",
    "    item_means : Broadcast\n",
    "        Spark-broadcasted Python dictionary, containing the average rating for each item\n",
    "    mu : float\n",
    "        Average overall rating\n",
    "    \"\"\"\n",
    "\n",
    "    return (test_set\n",
    "        .join(train_matrix_with_clusters, on='item_id', how='inner') # get cluster and ratings of test item\n",
    "        # the join should be done first so that we remove items and users that were not trained on (never seen before)\n",
    "        .withColumn('item_mean', F.udf(lambda x: item_means.value[x], returnType=DoubleType())('item_id'))\n",
    "        .withColumn('user_mean', F.udf(lambda x: user_means.value[x], returnType=DoubleType())('user_id'))\n",
    "        .withColumn('ratings_pearson', F.transform('ratings', lambda x: x - F.col('item_mean')))\n",
    "        .join(train_matrix_with_clusters\n",
    "            .withColumnsRenamed({\n",
    "                'item_id': 'other_item_id',\n",
    "                'ratings': 'other_ratings',\n",
    "            })\n",
    "            .withColumn('other_item_mean', F.udf(lambda x: item_means.value[x], returnType=DoubleType())('other_item_id'))\n",
    "            .withColumn('other_ratings_pearson', F.transform('other_ratings', lambda x: x - F.col('other_item_mean'))),\n",
    "            on='cluster_id',\n",
    "            how='inner')\n",
    "        .withColumn('user_other_rating', F.col('other_ratings')[F.col('user_id') - 1])\n",
    "        .filter(F.col('user_other_rating') != 0) # should remove the test item since it never gave got a rating from the test user\n",
    "        .withColumn('similarity',\n",
    "            F.aggregate(\n",
    "                F.zip_with('ratings_pearson', 'other_ratings_pearson', lambda x1, x2: x1 * x2),\n",
    "                initialValue=F.lit(0.0),\n",
    "                merge=lambda acc, x: acc + x\n",
    "            )\n",
    "            /\n",
    "            (\n",
    "                F.sqrt(F.aggregate(\n",
    "                    F.transform('ratings_pearson', lambda x: x**2),\n",
    "                    initialValue=F.lit(0.0),\n",
    "                    merge=lambda acc, x: acc + x\n",
    "                ))\n",
    "                *\n",
    "                F.sqrt(F.aggregate(\n",
    "                    F.transform('other_ratings_pearson', lambda x: x**2),\n",
    "                    initialValue=F.lit(0.0),\n",
    "                    merge=lambda acc, x: acc + x\n",
    "                ))\n",
    "            )\n",
    "        )\n",
    "        .withColumn('baseline', -mu + F.col('user_mean') + F.col('item_mean')) # b_xi\n",
    "        .withColumn('other_baseline', -mu + F.col('user_mean') + F.col('other_item_mean')) # b_xj\n",
    "        .groupBy(*test_set.columns, 'baseline')\n",
    "        .agg((F.col('baseline') + F.sum(F.col('similarity') * (F.col('user_other_rating') - F.col('other_baseline'))) / F.sum('similarity')).alias('predicted_rating'))\n",
    "        .drop('baseline')\n",
    "    )"
   ]
  },
  {
   "cell_type": "markdown",
   "metadata": {},
   "source": [
    "## Testing"
   ]
  },
  {
   "attachments": {},
   "cell_type": "markdown",
   "metadata": {},
   "source": [
    "For testing we leave out 10% of the ratings for evaluation.\n",
    "We perform a random split of the dataframe with a fixed seed, generating a dataframe for training and clustering and another with the test ratings to predict."
   ]
  },
  {
   "cell_type": "code",
   "execution_count": 8,
   "metadata": {},
   "outputs": [
    {
     "name": "stderr",
     "output_type": "stream",
     "text": [
      "                                                                                \r"
     ]
    }
   ],
   "source": [
    "seed_random = 1\n",
    "n_clusters = 50\n",
    "\n",
    "train_set, test_set = df.randomSplit([9.0, 1.0], seed=seed_random)\n",
    "\n",
    "user_means, item_means, mu = calculate_user_item_means(train_set)"
   ]
  },
  {
   "attachments": {},
   "cell_type": "markdown",
   "metadata": {},
   "source": [
    "Perform clustering on the training data only, and then associate the items in the testing data with their respective cluster."
   ]
  },
  {
   "cell_type": "code",
   "execution_count": 9,
   "metadata": {},
   "outputs": [
    {
     "name": "stderr",
     "output_type": "stream",
     "text": [
      "23/05/04 11:11:59 WARN InstanceBuilder: Failed to load implementation from:dev.ludovic.netlib.blas.JNIBLAS\n",
      "                                                                                \r"
     ]
    }
   ],
   "source": [
    "train_matrix = build_item_ratings_sparse_matrix(train_set)\n",
    "train_matrix_with_clusters = cluster_with_bisectingkmeans(train_matrix, minDivisibleClusterSize=1/n_clusters, k=n_clusters)"
   ]
  },
  {
   "attachments": {},
   "cell_type": "markdown",
   "metadata": {},
   "source": [
    "### Cluster analysis"
   ]
  },
  {
   "attachments": {},
   "cell_type": "markdown",
   "metadata": {},
   "source": [
    "Before proceeding, we can perform some cluster analysis on the data.\n",
    "The plot below shows the number of elements on each cluster, after performing the clustering above."
   ]
  },
  {
   "cell_type": "code",
   "execution_count": 10,
   "metadata": {},
   "outputs": [
    {
     "name": "stderr",
     "output_type": "stream",
     "text": [
      "                                                                                \r"
     ]
    },
    {
     "data": {
      "image/png": "[encoded data removed]",
      "text/plain": [
       "<Figure size 432x288 with 1 Axes>"
      ]
     },
     "metadata": {
      "needs_background": "light"
     },
     "output_type": "display_data"
    }
   ],
   "source": [
    "cluster_counts = [row['count']\n",
    "    for row in (train_matrix_with_clusters\n",
    "        .select('item_id', 'cluster_id')\n",
    "        .distinct()\n",
    "        .groupBy('cluster_id')\n",
    "        .count()\n",
    "    ).collect()\n",
    "]\n",
    "\n",
    "if plt is not None:\n",
    "    plt.bar(list(range(n_clusters)), cluster_counts, width=1.0)\n",
    "    plt.title('Cluster sizes')\n",
    "    plt.xlabel('Cluster')\n",
    "    plt.ylabel('Number of elements')"
   ]
  },
  {
   "attachments": {},
   "cell_type": "markdown",
   "metadata": {},
   "source": [
    "With the exception of 1 cluster, all clusters have a similar number of elements, which allows us to expect consistent performance when calculating similarities for any item.\n",
    "\n",
    "If, for instance, we left the `minDivisibleClusterSize` parameter of the clustering algorithm with its default value (`1.0`), then many of the resulting clusters would have very few elements, and the cluster size would thus be much more skewed, with some clusters having almost no elements."
   ]
  },
  {
   "cell_type": "code",
   "execution_count": 11,
   "metadata": {},
   "outputs": [
    {
     "name": "stderr",
     "output_type": "stream",
     "text": [
      "                                                                                \r"
     ]
    },
    {
     "data": {
      "image/png": "[encoded data removed]",
      "text/plain": [
       "<Figure size 432x288 with 1 Axes>"
      ]
     },
     "metadata": {},
     "output_type": "display_data"
    }
   ],
   "source": [
    "cluster_counts = [row['count']\n",
    "    for row in (cluster_with_bisectingkmeans(train_matrix, minDivisibleClusterSize=1.0, k=n_clusters)\n",
    "        .select('item_id', 'cluster_id')\n",
    "        .distinct()\n",
    "        .groupBy('cluster_id')\n",
    "        .count()\n",
    "    ).collect()\n",
    "]\n",
    "\n",
    "if plt is not None:\n",
    "    plt.bar(list(range(n_clusters)), cluster_counts, width=1.0)\n",
    "    plt.title('Cluster sizes (default minDivisibleClusterSize)')\n",
    "    plt.xlabel('Cluster')\n",
    "    plt.ylabel('Number of elements')"
   ]
  },
  {
   "cell_type": "markdown",
   "metadata": {},
   "source": [
    "### Predictions"
   ]
  },
  {
   "attachments": {},
   "cell_type": "markdown",
   "metadata": {},
   "source": [
    "With the prediction function described previously, we can add the `predicted_rating` column to the `test_set`.\n",
    "We also include the `rating` column renamed to `true_rating`, so that we have a pair of `true_rating` and `predicted_rating` columns ready for evaluation."
   ]
  },
  {
   "cell_type": "code",
   "execution_count": 12,
   "metadata": {},
   "outputs": [
    {
     "name": "stderr",
     "output_type": "stream",
     "text": [
      "[Stage 839:>                                                        (0 + 1) / 1]\r"
     ]
    },
    {
     "name": "stdout",
     "output_type": "stream",
     "text": [
      "+-------+-------+-----------+------------------+\n",
      "|user_id|item_id|true_rating|  predicted_rating|\n",
      "+-------+-------+-----------+------------------+\n",
      "|    886|     23|          4|3.3774950169833513|\n",
      "|    882|     25|          2| 4.485426138352216|\n",
      "|    637|     50|          4|3.4961996552313117|\n",
      "|    213|     64|          5| 5.071685217733448|\n",
      "|    711|     66|          4| 3.604034918930306|\n",
      "|    571|     69|          2| 3.590501139686594|\n",
      "|    682|     70|          4| 3.654812931614694|\n",
      "|    894|     83|          4| 4.096264247296283|\n",
      "|    374|     95|          4|3.9827569957412097|\n",
      "|    308|     95|          4|3.8403190241222367|\n",
      "|    742|    100|          5| 3.804908352276502|\n",
      "|    267|    100|          5| 4.539557350220972|\n",
      "|    672|    127|          4|3.0847568162985066|\n",
      "|    738|    141|          3|3.2760568629370583|\n",
      "|    555|    150|          4| 4.475181859829583|\n",
      "|    633|    159|          4|3.1463729460970122|\n",
      "|    142|    189|          4|3.7731246126877283|\n",
      "|    661|    195|          5| 4.403756352376105|\n",
      "|    561|    202|          3|3.1794105098988013|\n",
      "|     43|    210|          5| 4.320763959681815|\n",
      "+-------+-------+-----------+------------------+\n",
      "only showing top 20 rows\n",
      "\n"
     ]
    },
    {
     "name": "stderr",
     "output_type": "stream",
     "text": [
      "                                                                                \r"
     ]
    }
   ],
   "source": [
    "predictions = predict_ratings(test_set.withColumnRenamed('rating', 'true_rating'), train_matrix_with_clusters, user_means, item_means, mu)\n",
    "predictions.show()"
   ]
  },
  {
   "attachments": {},
   "cell_type": "markdown",
   "metadata": {},
   "source": [
    "It's possible that some predictions can't be made since an item can be present in the test set but not in the training set, when doing the random splitting.\n",
    "Below is the calculation of the portion of test ratings that were ignored when doing the predictions."
   ]
  },
  {
   "cell_type": "code",
   "execution_count": 17,
   "metadata": {},
   "outputs": [
    {
     "name": "stderr",
     "output_type": "stream",
     "text": [
      "                                                                                \r"
     ]
    }
   ],
   "source": [
    "non_tested = (test_set\n",
    "    .join(train_matrix_with_clusters, on='item_id', how='left')\n",
    "    .filter(F.col('cluster_id').isNull())\n",
    ").count()\n",
    "\n",
    "tested_total = test_set.count()"
   ]
  },
  {
   "cell_type": "code",
   "execution_count": 18,
   "metadata": {},
   "outputs": [
    {
     "name": "stdout",
     "output_type": "stream",
     "text": [
      "Portion of user-item pairs that were not tested: 0.138203%\n"
     ]
    }
   ],
   "source": [
    "print(f'Portion of user-item pairs that were not tested: {non_tested/tested_total:%}')"
   ]
  },
  {
   "cell_type": "markdown",
   "metadata": {},
   "source": [
    "### Evaluation"
   ]
  },
  {
   "attachments": {},
   "cell_type": "markdown",
   "metadata": {},
   "source": [
    "With the true and predicted ratings, we can calculate performance metrics.\n",
    "Here we calculated the root-mean-square error (RMSE) using the formula:\n",
    "\n",
    "$$\n",
    "\\sqrt{\\frac{\\sum_{xj}{(r_{xi} - r_{xi}^*)^2}}{\\sum_{xj}{1}}}\n",
    "$$\n",
    "\n",
    "The denominator of the fraction can be calculated by simply counting the number of rows that were tested in the test set.\n",
    "Therefore we have to exclude user-item pairs that could not be predicted.\n",
    "For that, we simply perform the previous first inner join with `train_matrix_with_clusters`, which already excludes unpredictable user-item pairs."
   ]
  },
  {
   "cell_type": "code",
   "execution_count": 14,
   "metadata": {},
   "outputs": [
    {
     "name": "stderr",
     "output_type": "stream",
     "text": [
      "                                                                                \r"
     ]
    }
   ],
   "source": [
    "total_tested = test_set.join(train_matrix_with_clusters, on='item_id', how='inner').count()"
   ]
  },
  {
   "attachments": {},
   "cell_type": "markdown",
   "metadata": {},
   "source": [
    "For the numerator, we utilize Spark on top of the `predictions` dataframe to compute the square error between the `true_rating` and the `predicted_rating` columns.\n",
    "After performing a sum over all rows, the result is collected."
   ]
  },
  {
   "cell_type": "code",
   "execution_count": 15,
   "metadata": {},
   "outputs": [
    {
     "name": "stderr",
     "output_type": "stream",
     "text": [
      "                                                                                \r"
     ]
    }
   ],
   "source": [
    "rmse = ((predictions\n",
    "    .withColumn('square_error', (F.col('true_rating') - F.col('predicted_rating'))**2)\n",
    "    .select('square_error')\n",
    "    .groupBy()\n",
    "    .sum('square_error')\n",
    "    .collect()[0]['sum(square_error)']\n",
    "    ) / (total_tested)) ** 0.5"
   ]
  },
  {
   "attachments": {},
   "cell_type": "markdown",
   "metadata": {},
   "source": [
    "And so, we have the RMSE calculated.\n",
    "The performance is comparable to another collaborative filtering approach from 2015, which had an RMSE value of 0.945 (https://paperswithcode.com/sota/collaborative-filtering-on-movielens-100k)."
   ]
  },
  {
   "cell_type": "code",
   "execution_count": 16,
   "metadata": {},
   "outputs": [
    {
     "name": "stdout",
     "output_type": "stream",
     "text": [
      "RMSE: 0.9469069462825471\n"
     ]
    }
   ],
   "source": [
    "print('RMSE:', rmse)"
   ]
  }
 ],
 "metadata": {
  "kernelspec": {
   "display_name": "Python 3",
   "language": "python",
   "name": "python3"
  },
  "language_info": {
   "codemirror_mode": {
    "name": "ipython",
    "version": 3
   },
   "file_extension": ".py",
   "mimetype": "text/x-python",
   "name": "python",
   "nbconvert_exporter": "python",
   "pygments_lexer": "ipython3",
   "version": "3.8.10"
  },
  "orig_nbformat": 4
 },
 "nbformat": 4,
 "nbformat_minor": 2
}
